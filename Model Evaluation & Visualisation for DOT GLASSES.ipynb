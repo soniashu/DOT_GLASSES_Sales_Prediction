{
 "cells": [
  {
   "cell_type": "markdown",
   "id": "0b13bf4d",
   "metadata": {},
   "source": [
    "<h2 style = \"color : Green\">Simple Linear Regression/ Multiple Linear Regression </h2><br>\n",
    "\n",
    "<b><i>Multivariate Regression is a supervised machine learning algorithm involving multiple data variables for analysis. It is used when we want to predict the value of a variable based on the value of two or more different variables\n",
    "\n",
    "<b>We proceed to the model building part and here we may use multivariate linear regression algorithm, you may choose a perfect ratio for train test split, train the model with linear regression and perform a summary operation and list out all the different parameters of regression line fitted and point out the key statistics from summary"
   ]
  },
  {
   "cell_type": "code",
   "execution_count": 2,
   "id": "d1db5f33",
   "metadata": {},
   "outputs": [],
   "source": [
    "## importing the libraries\n",
    "\n",
    "\n",
    "from sklearn.linear_model import LinearRegression\n",
    "from sklearn.model_selection import train_test_split\n",
    "import pandas as pd\n",
    "import numpy as np"
   ]
  },
  {
   "cell_type": "code",
   "execution_count": 14,
   "id": "40f5d335",
   "metadata": {},
   "outputs": [
    {
     "data": {
      "text/html": [
       "<div>\n",
       "<style scoped>\n",
       "    .dataframe tbody tr th:only-of-type {\n",
       "        vertical-align: middle;\n",
       "    }\n",
       "\n",
       "    .dataframe tbody tr th {\n",
       "        vertical-align: top;\n",
       "    }\n",
       "\n",
       "    .dataframe thead th {\n",
       "        text-align: right;\n",
       "    }\n",
       "</style>\n",
       "<table border=\"1\" class=\"dataframe\">\n",
       "  <thead>\n",
       "    <tr style=\"text-align: right;\">\n",
       "      <th></th>\n",
       "      <th>Unnamed: 0</th>\n",
       "      <th>TV</th>\n",
       "      <th>Radio</th>\n",
       "      <th>Newspaper</th>\n",
       "      <th>Sales</th>\n",
       "    </tr>\n",
       "  </thead>\n",
       "  <tbody>\n",
       "    <tr>\n",
       "      <th>0</th>\n",
       "      <td>0</td>\n",
       "      <td>230.1</td>\n",
       "      <td>37.8</td>\n",
       "      <td>69.2</td>\n",
       "      <td>22.1</td>\n",
       "    </tr>\n",
       "    <tr>\n",
       "      <th>1</th>\n",
       "      <td>1</td>\n",
       "      <td>44.5</td>\n",
       "      <td>39.3</td>\n",
       "      <td>45.1</td>\n",
       "      <td>10.4</td>\n",
       "    </tr>\n",
       "    <tr>\n",
       "      <th>2</th>\n",
       "      <td>2</td>\n",
       "      <td>17.2</td>\n",
       "      <td>45.9</td>\n",
       "      <td>69.3</td>\n",
       "      <td>12.0</td>\n",
       "    </tr>\n",
       "    <tr>\n",
       "      <th>3</th>\n",
       "      <td>3</td>\n",
       "      <td>151.5</td>\n",
       "      <td>41.3</td>\n",
       "      <td>58.5</td>\n",
       "      <td>16.5</td>\n",
       "    </tr>\n",
       "    <tr>\n",
       "      <th>4</th>\n",
       "      <td>4</td>\n",
       "      <td>180.8</td>\n",
       "      <td>10.8</td>\n",
       "      <td>58.4</td>\n",
       "      <td>17.9</td>\n",
       "    </tr>\n",
       "    <tr>\n",
       "      <th>...</th>\n",
       "      <td>...</td>\n",
       "      <td>...</td>\n",
       "      <td>...</td>\n",
       "      <td>...</td>\n",
       "      <td>...</td>\n",
       "    </tr>\n",
       "    <tr>\n",
       "      <th>195</th>\n",
       "      <td>195</td>\n",
       "      <td>38.2</td>\n",
       "      <td>3.7</td>\n",
       "      <td>13.8</td>\n",
       "      <td>7.6</td>\n",
       "    </tr>\n",
       "    <tr>\n",
       "      <th>196</th>\n",
       "      <td>196</td>\n",
       "      <td>94.2</td>\n",
       "      <td>4.9</td>\n",
       "      <td>8.1</td>\n",
       "      <td>14.0</td>\n",
       "    </tr>\n",
       "    <tr>\n",
       "      <th>197</th>\n",
       "      <td>197</td>\n",
       "      <td>177.0</td>\n",
       "      <td>9.3</td>\n",
       "      <td>6.4</td>\n",
       "      <td>14.8</td>\n",
       "    </tr>\n",
       "    <tr>\n",
       "      <th>198</th>\n",
       "      <td>198</td>\n",
       "      <td>283.6</td>\n",
       "      <td>42.0</td>\n",
       "      <td>66.2</td>\n",
       "      <td>25.5</td>\n",
       "    </tr>\n",
       "    <tr>\n",
       "      <th>199</th>\n",
       "      <td>199</td>\n",
       "      <td>232.1</td>\n",
       "      <td>8.6</td>\n",
       "      <td>8.7</td>\n",
       "      <td>18.4</td>\n",
       "    </tr>\n",
       "  </tbody>\n",
       "</table>\n",
       "<p>200 rows × 5 columns</p>\n",
       "</div>"
      ],
      "text/plain": [
       "     Unnamed: 0     TV  Radio  Newspaper  Sales\n",
       "0             0  230.1   37.8       69.2   22.1\n",
       "1             1   44.5   39.3       45.1   10.4\n",
       "2             2   17.2   45.9       69.3   12.0\n",
       "3             3  151.5   41.3       58.5   16.5\n",
       "4             4  180.8   10.8       58.4   17.9\n",
       "..          ...    ...    ...        ...    ...\n",
       "195         195   38.2    3.7       13.8    7.6\n",
       "196         196   94.2    4.9        8.1   14.0\n",
       "197         197  177.0    9.3        6.4   14.8\n",
       "198         198  283.6   42.0       66.2   25.5\n",
       "199         199  232.1    8.6        8.7   18.4\n",
       "\n",
       "[200 rows x 5 columns]"
      ]
     },
     "execution_count": 14,
     "metadata": {},
     "output_type": "execute_result"
    }
   ],
   "source": [
    "dataset = pd.read_csv('cleaned_advertising.csv')\n",
    "dataset"
   ]
  },
  {
   "cell_type": "markdown",
   "id": "d1290bfe",
   "metadata": {},
   "source": [
    "<H3>DATA PREPROCESSING</H3>"
   ]
  },
  {
   "cell_type": "code",
   "execution_count": 4,
   "id": "43bfaafb",
   "metadata": {},
   "outputs": [],
   "source": [
    "### Define X&Y ###\n",
    "\n",
    "x = dataset.iloc[:, :-1]\n",
    "y = dataset.iloc[:, -1].values"
   ]
  },
  {
   "cell_type": "markdown",
   "id": "333ad2a6",
   "metadata": {},
   "source": [
    "<h3>Model Training</h3>"
   ]
  },
  {
   "cell_type": "markdown",
   "id": "6e043315",
   "metadata": {},
   "source": [
    "<h3 style = \"color : red\">Create and fit a liner regression model to the Data for the prediction</h3>"
   ]
  },
  {
   "cell_type": "code",
   "execution_count": 5,
   "id": "2e74ab5a",
   "metadata": {},
   "outputs": [],
   "source": [
    "### Splitting the Dataset ###\n",
    "x_train, x_test, y_train, y_test = train_test_split(x,y)"
   ]
  },
  {
   "cell_type": "code",
   "execution_count": 6,
   "id": "29c3a5b6",
   "metadata": {},
   "outputs": [
    {
     "data": {
      "text/plain": [
       "LinearRegression()"
      ]
     },
     "execution_count": 6,
     "metadata": {},
     "output_type": "execute_result"
    }
   ],
   "source": [
    "lin = LinearRegression(fit_intercept= True)\n",
    "lin.fit(x_train, y_train)"
   ]
  },
  {
   "cell_type": "code",
   "execution_count": 7,
   "id": "c0bfd3b5",
   "metadata": {},
   "outputs": [
    {
     "data": {
      "text/plain": [
       "LinearRegression(normalize=False)"
      ]
     },
     "execution_count": 7,
     "metadata": {},
     "output_type": "execute_result"
    }
   ],
   "source": [
    "LinearRegression(copy_X=True, fit_intercept=True, n_jobs=None, normalize=False)"
   ]
  },
  {
   "cell_type": "code",
   "execution_count": 8,
   "id": "ed97f777",
   "metadata": {},
   "outputs": [
    {
     "name": "stdout",
     "output_type": "stream",
     "text": [
      "Linear coefficients : [0.05420799 0.10063365 0.00361576]\n",
      "Intercept : 4.771045959404079\n"
     ]
    }
   ],
   "source": [
    "print(f\"Linear coefficients : {lin.coef_}\")\n",
    "print(f\"Intercept : {lin.intercept_}\")"
   ]
  },
  {
   "cell_type": "markdown",
   "id": "1185d2e4",
   "metadata": {},
   "source": [
    "<h3>Model Prediction</h3>"
   ]
  },
  {
   "cell_type": "code",
   "execution_count": 9,
   "id": "5b729aa6",
   "metadata": {},
   "outputs": [],
   "source": [
    "y_pred = lin.predict(x_test)"
   ]
  },
  {
   "cell_type": "markdown",
   "id": "6cf177c8",
   "metadata": {},
   "source": [
    "<h3>Metrices</h3>"
   ]
  },
  {
   "cell_type": "code",
   "execution_count": 10,
   "id": "6d1147de",
   "metadata": {},
   "outputs": [
    {
     "name": "stdout",
     "output_type": "stream",
     "text": [
      "Root Mean Squared Error: 1.443263375377067\n"
     ]
    }
   ],
   "source": [
    "### RMSE ###\n",
    "\n",
    "from sklearn import metrics\n",
    "\n",
    "print('Root Mean Squared Error:', np.sqrt(metrics.mean_squared_error(y_test, y_pred)))"
   ]
  },
  {
   "cell_type": "code",
   "execution_count": 11,
   "id": "436cea0e",
   "metadata": {},
   "outputs": [
    {
     "data": {
      "text/plain": [
       "0.9215350327884629"
      ]
     },
     "execution_count": 11,
     "metadata": {},
     "output_type": "execute_result"
    }
   ],
   "source": [
    "### R-squared ###\n",
    "\n",
    "\n",
    "from sklearn.metrics import r2_score\n",
    "r2_score(y_test, y_pred)"
   ]
  },
  {
   "cell_type": "markdown",
   "id": "bd739d9a",
   "metadata": {},
   "source": [
    "<h3>Tuning</h3>"
   ]
  },
  {
   "cell_type": "markdown",
   "id": "29f86e27",
   "metadata": {},
   "source": [
    "estimate the relevancy of the coefficients\n",
    "\n",
    "Now that you have coefficients, how can you tell if they are relevant to predict your target?\n",
    "\n",
    "The best way is to find the p-value. The p-value is used to quantify statistical significance; it allows to tell whether the null hypothesis is to be rejected or not.\n",
    "\n",
    "<b>The null hypothesis?\n",
    "\n",
    "For any modelling task, the hypothesis is that there is some correlation between the features and the target. The null hypothesis is therefore the opposite: there is no correlation between the features and the target.\n",
    "\n",
    "So, finding the p-value for each coefficient will tell if the variable is statistically significant to predict the target. \n",
    "As a general rule of thumb, if the p-value is less than 0.05: there is a strong relationship between the variable and the target."
   ]
  },
  {
   "cell_type": "code",
   "execution_count": 12,
   "id": "beeae479",
   "metadata": {},
   "outputs": [],
   "source": [
    "import statsmodels.api as sm"
   ]
  },
  {
   "cell_type": "code",
   "execution_count": 15,
   "id": "fc24bf38",
   "metadata": {},
   "outputs": [
    {
     "name": "stdout",
     "output_type": "stream",
     "text": [
      "                            OLS Regression Results                            \n",
      "==============================================================================\n",
      "Dep. Variable:                      y   R-squared:                       0.903\n",
      "Model:                            OLS   Adj. R-squared:                  0.901\n",
      "Method:                 Least Squares   F-statistic:                     605.4\n",
      "Date:                Tue, 25 Apr 2023   Prob (F-statistic):           8.13e-99\n",
      "Time:                        10:30:18   Log-Likelihood:                -383.34\n",
      "No. Observations:                 200   AIC:                             774.7\n",
      "Df Residuals:                     196   BIC:                             787.9\n",
      "Df Model:                           3                                         \n",
      "Covariance Type:            nonrobust                                         \n",
      "==============================================================================\n",
      "                 coef    std err          t      P>|t|      [0.025      0.975]\n",
      "------------------------------------------------------------------------------\n",
      "const          4.6251      0.308     15.041      0.000       4.019       5.232\n",
      "TV             0.0544      0.001     39.592      0.000       0.052       0.057\n",
      "Radio          0.1070      0.008     12.604      0.000       0.090       0.124\n",
      "Newspaper      0.0003      0.006      0.058      0.954      -0.011       0.012\n",
      "==============================================================================\n",
      "Omnibus:                       16.081   Durbin-Watson:                   2.251\n",
      "Prob(Omnibus):                  0.000   Jarque-Bera (JB):               27.655\n",
      "Skew:                          -0.431   Prob(JB):                     9.88e-07\n",
      "Kurtosis:                       4.605   Cond. No.                         454.\n",
      "==============================================================================\n",
      "\n",
      "Notes:\n",
      "[1] Standard Errors assume that the covariance matrix of the errors is correctly specified.\n"
     ]
    }
   ],
   "source": [
    "X2 = sm.add_constant(x)\n",
    "est = sm.OLS(y, X2)\n",
    "est2 = est.fit()\n",
    "print(est2.summary())\n",
    "     "
   ]
  },
  {
   "cell_type": "markdown",
   "id": "0abd60cc",
   "metadata": {},
   "source": [
    "<h4>P value</h4>\n",
    "\n",
    "Looking at all coefficients, we have a p-value that is very low (although it is probably not exactly 0) for TV and Radio. This means that there is a strong correlation between these coefficients and the target (Sales).\n",
    "\n",
    "Of course, we notice that the third coefficient (the one for newspaper) has a large p-value 0.954. Therefore, ad spending on newspaper is not statistically significant. Removing that predictor would slightly reduce the R² value, but we might make better predictions.\n",
    "\n",
    "<h4>R² value and Adj. R² value</h4>\n",
    "\n",
    "Then, looking at the R² value and Adj. R² value, we have 0.9. Therefore, about 90% of the variability of sales is explained by the amount spent on all ads\n",
    "\n",
    "<h4>F-statistic</h4>\n",
    "\n",
    "This is a good indicator of whether there is a relationship between Y and X. The further our F-statistic is away from 1, the better our regression model.The F-statistic is 605.4. This is much greater than 1, and since our data set if fairly small (only 200 data points), it demonstrates that there is a strong relationship between ad spending and sales.\n",
    "\n",
    "<h4>std error</h4>\n",
    "\n",
    "The coefficient standard error, as mentioned above, measures how much our coefficient estimates vary from the actual average value of our response variable. In other words, it measures the accuracy of coefficient estimates. The closer our standard error is to zero, the better.\n",
    "\n",
    "<h4>t-value</h4>\n",
    "\n",
    "The coefficient t-value measures how far (in standard deviations) our coefficient estimate is from 0. A large t-value, relative to standard error, would provide evidence against the null hypothesis and indicate that a relationships exists between the predictor and response variables. Predictors with low t-statistics can be dropped. Ideally, the t-value should be greater than 1.96 for a p-value to be less than 0.05."
   ]
  },
  {
   "cell_type": "markdown",
   "id": "4084411d",
   "metadata": {},
   "source": [
    "<h3>Evaluate the performance of the trained model on the testing data¶</h3>"
   ]
  },
  {
   "cell_type": "code",
   "execution_count": null,
   "id": "9f0a3b6d",
   "metadata": {},
   "outputs": [],
   "source": [
    "# Use the trained model to make predictions on new data\n",
    "new_data = pd.DataFrame({'TV': [10000], 'Radio': [5000], 'Newspaper': [2000]})\n",
    "prediction = lin.predict(new_data)\n",
    "print(\"Prediction:\", prediction)"
   ]
  },
  {
   "cell_type": "code",
   "execution_count": null,
   "id": "8aafcac2",
   "metadata": {},
   "outputs": [],
   "source": []
  }
 ],
 "metadata": {
  "kernelspec": {
   "display_name": "Python 3 (ipykernel)",
   "language": "python",
   "name": "python3"
  },
  "language_info": {
   "codemirror_mode": {
    "name": "ipython",
    "version": 3
   },
   "file_extension": ".py",
   "mimetype": "text/x-python",
   "name": "python",
   "nbconvert_exporter": "python",
   "pygments_lexer": "ipython3",
   "version": "3.9.12"
  }
 },
 "nbformat": 4,
 "nbformat_minor": 5
}
